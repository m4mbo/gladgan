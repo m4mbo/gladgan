{
 "cells": [
  {
   "cell_type": "markdown",
   "metadata": {},
   "source": [
    "Train Loop"
   ]
  },
  {
   "cell_type": "code",
   "execution_count": 1,
   "metadata": {},
   "outputs": [],
   "source": [
    "import sys\n",
    "sys.path.append('../')  \n",
    "\n",
    "from data.graph_sampler import GraphSampler\n",
    "from data.load_data import read_graphfile\n",
    "from sklearn.model_selection import train_test_split\n",
    "import torch\n",
    "from torch.utils.data import DataLoader\n",
    "import tqdm"
   ]
  },
  {
   "cell_type": "code",
   "execution_count": null,
   "metadata": {},
   "outputs": [],
   "source": [
    "EPOCHS = 1000\n",
    "DATADIR = '../datasets/'\n",
    "DS = 'NCI1'\n",
    "MAX_NODES = 0\n",
    "FEATURES = 'deg' # deg or default\n",
    "BATCH_SIZE = 300"
   ]
  },
  {
   "cell_type": "code",
   "execution_count": null,
   "metadata": {},
   "outputs": [],
   "source": [
    "graphs = read_graphfile(DATADIR, DS, max_nodes=MAX_NODES)  \n",
    "graphs_label = [graph.graph['label'] for graph in graphs]\n",
    "\n",
    "if MAX_NODES == 0:\n",
    "        max_nodes_num = max([G.number_of_nodes() for G in graphs])\n",
    "\n",
    "graphs_train, graphs_test = train_test_split(graphs, test_size=0.2, random_state=42)\n",
    "\n",
    "dataset_sampler_train = GraphSampler(graphs_train, features=FEATURES, normalize=False, max_num_nodes=MAX_NODES)\n",
    "dataset_sampler_test = GraphSampler(graphs_test, features=FEATURES, normalize=False, max_num_nodes=MAX_NODES)\n",
    "\n",
    "data_loader_train = DataLoader(dataset_sampler_train, shuffle=True, batch_size=BATCH_SIZE)\n",
    "data_loader_test = DataLoader(dataset_sampler_test, shuffle=True, batch_size=BATCH_SIZE)"
   ]
  },
  {
   "cell_type": "code",
   "execution_count": null,
   "metadata": {},
   "outputs": [],
   "source": [
    "for i in tqdm()"
   ]
  }
 ],
 "metadata": {
  "kernelspec": {
   "display_name": "Python 3",
   "language": "python",
   "name": "python3"
  },
  "language_info": {
   "codemirror_mode": {
    "name": "ipython",
    "version": 3
   },
   "file_extension": ".py",
   "mimetype": "text/x-python",
   "name": "python",
   "nbconvert_exporter": "python",
   "pygments_lexer": "ipython3",
   "version": "3.10.12"
  }
 },
 "nbformat": 4,
 "nbformat_minor": 2
}
